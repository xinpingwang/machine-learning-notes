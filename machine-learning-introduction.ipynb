{
 "cells": [
  {
   "cell_type": "markdown",
   "metadata": {},
   "source": [
    "# 机器学习介绍"
   ]
  },
  {
   "cell_type": "markdown",
   "metadata": {},
   "source": [
    "## 什么是机器学习\n",
    "\n",
    "Arthur Samuel 给出的定义是：机器学习是一个研究**让计算机无需明确编程即可学习**的领域。而一个更为正式的定义是：一个关于某类任务 T 的计算机程序，其在任务 T 中的性能通过 P 来测量，如果随着经验 E，该程序的性能 P 可以获得改善，我们就说该程序可以从经验 E 中学习。"
   ]
  },
  {
   "cell_type": "markdown",
   "metadata": {},
   "source": [
    "## 机器学习分类\n",
    "\n",
    "机器学习可以分为监督学习（Supervised learning）和非监督学习（Unsupervised learning）两类。\n",
    "\n",
    "- **监督学习**\n",
    "\n",
    "在监督学习中，我们给定一组数据，以及其对应的输出，期望通过机器学习来发现输入和输出之间的关系。\n",
    "\n",
    "- **非监督学习**\n",
    "\n",
    "对于非监督学习，我们同样给定一组数据，但是不知道输出应该是什么样子的，期望通过机器学习来发掘数据内在的联系。"
   ]
  },
  {
   "cell_type": "code",
   "execution_count": null,
   "metadata": {},
   "outputs": [],
   "source": []
  }
 ],
 "metadata": {
  "kernelspec": {
   "display_name": "Python 3",
   "language": "python",
   "name": "python3"
  },
  "language_info": {
   "codemirror_mode": {
    "name": "ipython",
    "version": 3
   },
   "file_extension": ".py",
   "mimetype": "text/x-python",
   "name": "python",
   "nbconvert_exporter": "python",
   "pygments_lexer": "ipython3",
   "version": "3.7.3"
  }
 },
 "nbformat": 4,
 "nbformat_minor": 2
}
