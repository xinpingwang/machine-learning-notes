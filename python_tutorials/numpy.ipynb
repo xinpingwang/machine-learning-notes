{
 "cells": [
  {
   "cell_type": "markdown",
   "metadata": {
    "toc-hr-collapsed": false
   },
   "source": [
    "# NumPy"
   ]
  },
  {
   "cell_type": "markdown",
   "metadata": {},
   "source": [
    "## 1. 创建数组"
   ]
  },
  {
   "cell_type": "code",
   "execution_count": 1,
   "metadata": {},
   "outputs": [],
   "source": [
    "import numpy as np"
   ]
  },
  {
   "cell_type": "markdown",
   "metadata": {},
   "source": [
    "通过 python 数组创建"
   ]
  },
  {
   "cell_type": "code",
   "execution_count": 2,
   "metadata": {},
   "outputs": [
    {
     "name": "stdout",
     "output_type": "stream",
     "text": [
      "a: [1 2 3]\n",
      "b: [[1 2 3]\n",
      " [4 5 6]]\n"
     ]
    }
   ],
   "source": [
    "a = np.array([1, 2, 3])\n",
    "print('a:', a)\n",
    "\n",
    "b = np.array([[1, 2, 3], [4, 5, 6]])\n",
    "print('b:', b)"
   ]
  },
  {
   "cell_type": "markdown",
   "metadata": {},
   "source": [
    "常用数组的创建"
   ]
  },
  {
   "cell_type": "code",
   "execution_count": 3,
   "metadata": {},
   "outputs": [
    {
     "name": "stdout",
     "output_type": "stream",
     "text": [
      "c: [[0. 0.]\n",
      " [0. 0.]]\n",
      "d: [[1. 1.]]\n",
      "e: [[7 7 7]\n",
      " [7 7 7]]\n",
      "d: [[1. 1.]]\n",
      "g: [[0.74486886 0.30419223]\n",
      " [0.60807073 0.08296594]]\n"
     ]
    }
   ],
   "source": [
    "# 全 0 数组\n",
    "c = np.zeros((2, 2))\n",
    "print('c:', c)\n",
    "\n",
    "# 全 1 数组\n",
    "d = np.ones((1, 2))\n",
    "print('d:', d)\n",
    "\n",
    "# 使用 7 填充数组\n",
    "e = np.full((2, 3), 7)\n",
    "print('e:', e)\n",
    "\n",
    "# 单位矩阵\n",
    "f = np.eye(3)\n",
    "print('d:', d)\n",
    "\n",
    "# 随机数\n",
    "g = np.random.random((2, 2))\n",
    "print('g:', g)"
   ]
  },
  {
   "cell_type": "markdown",
   "metadata": {},
   "source": [
    "## 2. 访问数组中的元素"
   ]
  },
  {
   "cell_type": "code",
   "execution_count": 4,
   "metadata": {},
   "outputs": [
    {
     "name": "stdout",
     "output_type": "stream",
     "text": [
      "size of c: 4\n"
     ]
    }
   ],
   "source": [
    "# 获取数组的大小\n",
    "print('size of c:', c.size)"
   ]
  },
  {
   "cell_type": "code",
   "execution_count": 5,
   "metadata": {},
   "outputs": [
    {
     "name": "stdout",
     "output_type": "stream",
     "text": [
      "shape of d: (1, 2)\n"
     ]
    }
   ],
   "source": [
    "# 获取数组的维度\n",
    "print('shape of d:', d.shape)"
   ]
  },
  {
   "cell_type": "code",
   "execution_count": 6,
   "metadata": {},
   "outputs": [
    {
     "name": "stdout",
     "output_type": "stream",
     "text": [
      "a[0]: 1\n"
     ]
    }
   ],
   "source": [
    "print('a[0]:', a[0])"
   ]
  },
  {
   "cell_type": "code",
   "execution_count": 7,
   "metadata": {},
   "outputs": [
    {
     "name": "stdout",
     "output_type": "stream",
     "text": [
      "e[1]: [7 7 7]\n"
     ]
    }
   ],
   "source": [
    "print('e[1]:', e[1])"
   ]
  },
  {
   "cell_type": "markdown",
   "metadata": {},
   "source": [
    "## 3. 广播"
   ]
  },
  {
   "cell_type": "markdown",
   "metadata": {},
   "source": [
    "下面以一个 4x3 的二维数组和一个 1x3 的数组相加的例子，来说明 NumPy 中的广播计算"
   ]
  },
  {
   "cell_type": "code",
   "execution_count": 8,
   "metadata": {},
   "outputs": [],
   "source": [
    "x = np.array([[1, 2, 3], [4, 5, 6], [7, 8, 9], [10, 11, 12]])\n",
    "v = np.array([1, 4, 5])"
   ]
  },
  {
   "cell_type": "code",
   "execution_count": 9,
   "metadata": {},
   "outputs": [
    {
     "name": "stdout",
     "output_type": "stream",
     "text": [
      "shape of x: (4, 3)\n",
      "shape of v: (3,)\n"
     ]
    }
   ],
   "source": [
    "print('shape of x:', x.shape)\n",
    "print('shape of v:', v.shape)"
   ]
  },
  {
   "cell_type": "markdown",
   "metadata": {},
   "source": [
    "我们的目标是让 x 的每行和 v 中对应的元素相加："
   ]
  },
  {
   "cell_type": "markdown",
   "metadata": {},
   "source": [
    "**方法一**：通过 for 循环来实现"
   ]
  },
  {
   "cell_type": "code",
   "execution_count": 10,
   "metadata": {},
   "outputs": [
    {
     "name": "stdout",
     "output_type": "stream",
     "text": [
      "y: [[ 2  6  8]\n",
      " [ 5  9 11]\n",
      " [ 8 12 14]\n",
      " [11 15 17]]\n"
     ]
    }
   ],
   "source": [
    "y = np.empty_like(x) # 创建一个和 x 维度相同的数组\n",
    "\n",
    "for i in range(4):\n",
    "    y[i, :] = x[i, :] + v\n",
    "    \n",
    "print('y:', y)"
   ]
  },
  {
   "cell_type": "markdown",
   "metadata": {},
   "source": [
    "**方法二**：广播"
   ]
  },
  {
   "cell_type": "code",
   "execution_count": 11,
   "metadata": {},
   "outputs": [
    {
     "name": "stdout",
     "output_type": "stream",
     "text": [
      "y: [[ 2  6  8]\n",
      " [ 5  9 11]\n",
      " [ 8 12 14]\n",
      " [11 15 17]]\n"
     ]
    }
   ],
   "source": [
    "y = x + v\n",
    "print('y:', y)"
   ]
  },
  {
   "cell_type": "markdown",
   "metadata": {},
   "source": [
    "对比上面的两种方法可以发现：\n",
    "1. 使用 NumPy 中的广播计算，可以替代 for 循环\n",
    "2. 代码看起来更加简洁\n",
    "\n",
    "除此之外，广播相比与 for 循环计算速度更快，当然，广播也有一个缺点就是如果计算有问题，比较难以调试。所以，使用广播计算时应该保持清醒的头脑，理解计算前后数组维度的变化"
   ]
  },
  {
   "cell_type": "code",
   "execution_count": null,
   "metadata": {},
   "outputs": [],
   "source": []
  }
 ],
 "metadata": {
  "kernelspec": {
   "display_name": "Python 3",
   "language": "python",
   "name": "python3"
  },
  "language_info": {
   "codemirror_mode": {
    "name": "ipython",
    "version": 3
   },
   "file_extension": ".py",
   "mimetype": "text/x-python",
   "name": "python",
   "nbconvert_exporter": "python",
   "pygments_lexer": "ipython3",
   "version": "3.7.3"
  }
 },
 "nbformat": 4,
 "nbformat_minor": 4
}
