{
 "cells": [
  {
   "cell_type": "markdown",
   "metadata": {
    "toc-hr-collapsed": false
   },
   "source": [
    "# Python 基础"
   ]
  },
  {
   "cell_type": "markdown",
   "metadata": {
    "toc-hr-collapsed": false
   },
   "source": [
    "## 1. 数据类型\n",
    "\n",
    "### 1.1 基本数据类型\n",
    "\n",
    "Type | Example |Description\n",
    "---|---|---\n",
    "int | x = 1 | Integers (i.e., whole numbers)\n",
    "float | x = 1.0 | Floating-point numbers (i.e., real numbers)\n",
    "complex | x = 1 + 2j | Complex numbers (i.e., numbers with a real and imaginary part)\n",
    "bool | x = True | Boolean: True/False values\n",
    "str | x = 'abc' | String: characters or text\n",
    "NoneType | x = None | Special object indicating nulls"
   ]
  },
  {
   "cell_type": "code",
   "execution_count": 1,
   "metadata": {},
   "outputs": [
    {
     "name": "stdout",
     "output_type": "stream",
     "text": [
      "a: <class 'int'>\n"
     ]
    }
   ],
   "source": [
    "a = 1\n",
    "print('a: {}'.format(type(a)))"
   ]
  },
  {
   "cell_type": "code",
   "execution_count": 2,
   "metadata": {},
   "outputs": [
    {
     "name": "stdout",
     "output_type": "stream",
     "text": [
      "b: <class 'float'>\n"
     ]
    }
   ],
   "source": [
    "b = 1.0\n",
    "print('b: {}'.format(type(b)))"
   ]
  },
  {
   "cell_type": "code",
   "execution_count": 3,
   "metadata": {},
   "outputs": [
    {
     "name": "stdout",
     "output_type": "stream",
     "text": [
      "c: <class 'complex'>\n"
     ]
    }
   ],
   "source": [
    "c = 1 + 2j\n",
    "print('c: {}'.format(type(c)))"
   ]
  },
  {
   "cell_type": "code",
   "execution_count": 4,
   "metadata": {},
   "outputs": [
    {
     "name": "stdout",
     "output_type": "stream",
     "text": [
      "d: <class 'bool'>\n"
     ]
    }
   ],
   "source": [
    "d = True\n",
    "print('d: {}'.format(type(d)))"
   ]
  },
  {
   "cell_type": "code",
   "execution_count": 5,
   "metadata": {},
   "outputs": [
    {
     "name": "stdout",
     "output_type": "stream",
     "text": [
      "e: <class 'str'>\n"
     ]
    }
   ],
   "source": [
    "e = 'a'\n",
    "print('e: {}'.format(type(e)))"
   ]
  },
  {
   "cell_type": "code",
   "execution_count": 6,
   "metadata": {},
   "outputs": [
    {
     "name": "stdout",
     "output_type": "stream",
     "text": [
      "f: <class 'str'>\n"
     ]
    }
   ],
   "source": [
    "f = \"xyz\"\n",
    "print('f: {}'.format(type(f)))"
   ]
  },
  {
   "cell_type": "code",
   "execution_count": 7,
   "metadata": {},
   "outputs": [
    {
     "name": "stdout",
     "output_type": "stream",
     "text": [
      "g: <class 'NoneType'>\n"
     ]
    }
   ],
   "source": [
    "g = None\n",
    "print('g: {}'.format(type(g)))"
   ]
  },
  {
   "cell_type": "markdown",
   "metadata": {},
   "source": [
    "从上面的输出可见，Python 中的基本数据类型也都是对象，并且 Python 中没有 C/Java 中的字符这种类型，单引号和双引号的作用一样，都用于字符串，"
   ]
  },
  {
   "cell_type": "markdown",
   "metadata": {
    "toc-hr-collapsed": false
   },
   "source": [
    "### 1.2 常用数据结构\n",
    "\n",
    "Type Name | Example | Description\n",
    "---|---|---\n",
    "list | [1, 2, 3] | Ordered collection\n",
    "tuple | (1, 2, 3) | Immutable ordered collection\n",
    "dict | {'a':1, 'b':2, 'c':3} | Unordered (key,value) mapping\n",
    "set | {1, 2, 3} | Unordered collection of unique values"
   ]
  },
  {
   "cell_type": "markdown",
   "metadata": {},
   "source": [
    "**List**"
   ]
  },
  {
   "cell_type": "code",
   "execution_count": 8,
   "metadata": {},
   "outputs": [
    {
     "name": "stdout",
     "output_type": "stream",
     "text": [
      "2\n",
      "2\n",
      "[3, 4, 2, 5]\n",
      "5 [3, 4, 2]\n"
     ]
    }
   ],
   "source": [
    "# 创建数组\n",
    "xs = [3, 4, 2]\n",
    "# 访问数组中的元素\n",
    "print(xs[2])\n",
    "# 如果索引的值小于 0，表示从后往前数\n",
    "print(xs[-1])\n",
    "\n",
    "# 向数组中添加元素\n",
    "xs.append(5)\n",
    "print(xs)\n",
    "\n",
    "# 移除数组中的最后一个元素，并且返回该元素\n",
    "x = xs.pop()\n",
    "print(x, xs)"
   ]
  },
  {
   "cell_type": "markdown",
   "metadata": {},
   "source": [
    "**列表生成式（List Comprehensions）**"
   ]
  },
  {
   "cell_type": "code",
   "execution_count": 9,
   "metadata": {},
   "outputs": [
    {
     "name": "stdout",
     "output_type": "stream",
     "text": [
      "[0, 1, 4, 9, 16]\n"
     ]
    }
   ],
   "source": [
    "nums = [0, 1, 2, 3, 4]\n",
    "squares = []\n",
    "for x in nums:\n",
    "    squares.append(x ** 2)\n",
    "print(squares)"
   ]
  },
  {
   "cell_type": "code",
   "execution_count": 10,
   "metadata": {},
   "outputs": [
    {
     "name": "stdout",
     "output_type": "stream",
     "text": [
      "[0, 1, 4, 9, 16]\n"
     ]
    }
   ],
   "source": [
    "squares = [x ** 2 for x in nums]\n",
    "print(squares)"
   ]
  },
  {
   "cell_type": "markdown",
   "metadata": {},
   "source": [
    "**Dictionaries**"
   ]
  },
  {
   "cell_type": "code",
   "execution_count": 11,
   "metadata": {},
   "outputs": [
    {
     "name": "stdout",
     "output_type": "stream",
     "text": [
      "cute\n",
      "True\n",
      "N/A\n",
      "furry\n",
      "wet\n",
      "N/A\n"
     ]
    }
   ],
   "source": [
    "# 创建一个字典\n",
    "d = {'cat': 'cute', 'dog': 'furry'}\n",
    "\n",
    "# 从字典中取一个数据\n",
    "print(d['cat'])\n",
    "\n",
    "# 判断字典中是否包含指定的 key\n",
    "print('cat' in d)\n",
    "\n",
    "# 当从字典中读取不存在的 key 时，会抛出异常\n",
    "# print(d['monkey'])\n",
    "# 通过 get 方法，并指定默认值参数可以避免异常的发生\n",
    "print(d.get('monkey', 'N/A'))\n",
    "# key 存在时正常读取\n",
    "print(d.get('dog', 'N/A'))\n",
    "\n",
    "# 向字典中添加新的 key\n",
    "d['fish'] = 'wet'\n",
    "print(d['fish'])\n",
    "\n",
    "# 从字典中删除条目\n",
    "del d['fish']\n",
    "print(d.get('fish', 'N/A'))"
   ]
  },
  {
   "cell_type": "markdown",
   "metadata": {},
   "source": [
    "**Set**"
   ]
  },
  {
   "cell_type": "code",
   "execution_count": 12,
   "metadata": {},
   "outputs": [
    {
     "name": "stdout",
     "output_type": "stream",
     "text": [
      "True\n",
      "False\n",
      "True\n",
      "3\n",
      "3\n",
      "2\n"
     ]
    }
   ],
   "source": [
    "animals = {'cat', 'dog'}\n",
    "print('cat' in animals)\n",
    "print('fish' in animals)\n",
    "animals.add('fish')\n",
    "print('fish' in animals)\n",
    "print(len(animals))\n",
    "animals.add('cat')\n",
    "print(len(animals))\n",
    "animals.remove('cat')\n",
    "print(len(animals))"
   ]
  },
  {
   "cell_type": "code",
   "execution_count": null,
   "metadata": {},
   "outputs": [],
   "source": []
  }
 ],
 "metadata": {
  "kernelspec": {
   "display_name": "Python 3",
   "language": "python",
   "name": "python3"
  },
  "language_info": {
   "codemirror_mode": {
    "name": "ipython",
    "version": 3
   },
   "file_extension": ".py",
   "mimetype": "text/x-python",
   "name": "python",
   "nbconvert_exporter": "python",
   "pygments_lexer": "ipython3",
   "version": "3.7.3"
  }
 },
 "nbformat": 4,
 "nbformat_minor": 4
}
