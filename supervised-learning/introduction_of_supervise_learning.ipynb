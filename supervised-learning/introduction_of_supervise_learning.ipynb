{
 "cells": [
  {
   "cell_type": "markdown",
   "metadata": {},
   "source": [
    "# 模型表示\n",
    "\n",
    "在机器学习简介中，我们讲：“在监督学习中，我们给定一组数据，以及其对应的输出，期望通过机器学习来发现输入和输出之间的关系”。一个更正式的描述是，在给定训练数据集上，我们训练一个函数 h: X->Y，使得 h(x) 可以很好的预测对应的 y 值。由于历史原因，这个函数 h 被称作**假设函数**。\n",
    "\n",
    "![](https://d3c33hcgiwev3.cloudfront.net/imageAssetProxy.v1/H6qTdZmYEeaagxL7xdFKxA_2f0f671110e8f7446bb2b5b2f75a8874_Screenshot-2016-10-23-20.14.58.png?expiry=1557187200000&hmac=pp-AmQszdkeTAn6pc5NtYxwAOXE1B9ymmGCL3MzJXtQ)\n",
    "\n",
    "根据预测值是否连续，监督学习又分为**分类**和**回归**两类问题。"
   ]
  },
  {
   "cell_type": "markdown",
   "metadata": {},
   "source": [
    "在后续的笔记中，所有字母表示同吴恩达的机器学习课程中表示一致。"
   ]
  },
  {
   "cell_type": "code",
   "execution_count": null,
   "metadata": {},
   "outputs": [],
   "source": []
  }
 ],
 "metadata": {
  "kernelspec": {
   "display_name": "Python 3",
   "language": "python",
   "name": "python3"
  },
  "language_info": {
   "codemirror_mode": {
    "name": "ipython",
    "version": 3
   },
   "file_extension": ".py",
   "mimetype": "text/x-python",
   "name": "python",
   "nbconvert_exporter": "python",
   "pygments_lexer": "ipython3",
   "version": "3.7.3"
  }
 },
 "nbformat": 4,
 "nbformat_minor": 2
}
