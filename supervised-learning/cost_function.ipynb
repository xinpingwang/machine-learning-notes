{
 "cells": [
  {
   "cell_type": "markdown",
   "metadata": {},
   "source": [
    "# 损失函数\n",
    "\n",
    "在监督学习中，通过一个假设函数 h:X->Y 来构建输入参数 X 和输出值 Y 之间的映射关系。\n",
    "\n",
    "<img src=\"images/model.png\" width=\"400\">\n",
    "\n",
    "如上图中，通过一个线性函数来拟合所给出的数据，但是，怎么来衡量该线性函数的拟合效果呢？这就要用到损失函数（Cost Function），损失函数描述模型预测结果与真实结果之间的差异，一个较为常用的损失函数是均方误差函数（Mean Squared Error，or Squared Error Function），其计算公式如下：\n",
    "\n",
    "$$ J\\left(\\theta_{0}, \\theta_{1}\\right)=\\frac{1}{2 m} \\sum_{i=1}^{m}\\left(\\hat{y}_{i}-y_{i}\\right)^{2}=\\frac{1}{2 m} \\sum_{i=1}^{m}\\left(h_{\\theta}\\left(x_{i}\\right)-y_{i}\\right)^{2} $$ \n",
    "\n",
    "式中，$ \\hat{y}_{i}=h_{\\theta}\\left(x_{i}\\right) $ 为假设函数 h(x) 在 $ x_{i} $ 处的预测值，$ y_{i} $ 为对应的真实值。整个式子表示的是，预测值 $ \\hat{y}_{i} $ 和真实值 $ y_{i} $ 的差的平方和的平均值，式中的 1/2 是为了在后续求导的时候可以将系数约掉，并无特殊含义。"
   ]
  },
  {
   "cell_type": "code",
   "execution_count": null,
   "metadata": {},
   "outputs": [],
   "source": []
  }
 ],
 "metadata": {
  "kernelspec": {
   "display_name": "Python 3",
   "language": "python",
   "name": "python3"
  },
  "language_info": {
   "codemirror_mode": {
    "name": "ipython",
    "version": 3
   },
   "file_extension": ".py",
   "mimetype": "text/x-python",
   "name": "python",
   "nbconvert_exporter": "python",
   "pygments_lexer": "ipython3",
   "version": "3.7.3"
  }
 },
 "nbformat": 4,
 "nbformat_minor": 2
}
